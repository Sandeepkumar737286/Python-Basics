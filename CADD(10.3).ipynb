{
 "cells": [
  {
   "cell_type": "code",
   "execution_count": 3,
   "id": "4be51f83",
   "metadata": {},
   "outputs": [
    {
     "name": "stdout",
     "output_type": "stream",
     "text": [
      "Hello\n"
     ]
    }
   ],
   "source": [
    "print(\"Hello\")"
   ]
  },
  {
   "cell_type": "code",
   "execution_count": 15,
   "id": "b9ffa4be",
   "metadata": {},
   "outputs": [
    {
     "data": {
      "text/plain": [
       "3.5"
      ]
     },
     "execution_count": 15,
     "metadata": {},
     "output_type": "execute_result"
    }
   ],
   "source": [
    "(5+2)/2"
   ]
  },
  {
   "cell_type": "code",
   "execution_count": 16,
   "id": "6a0af4a2",
   "metadata": {},
   "outputs": [
    {
     "name": "stdout",
     "output_type": "stream",
     "text": [
      "153.86\n"
     ]
    }
   ],
   "source": [
    "r=7\n",
    "radius= 3.14*r*r\n",
    "print(radius)"
   ]
  },
  {
   "cell_type": "code",
   "execution_count": 17,
   "id": "21195b23",
   "metadata": {},
   "outputs": [
    {
     "name": "stdout",
     "output_type": "stream",
     "text": [
      "60\n"
     ]
    }
   ],
   "source": [
    "l=10\n",
    "b=20\n",
    "perimeter=2*(l+b)\n",
    "print(perimeter)"
   ]
  },
  {
   "cell_type": "code",
   "execution_count": 18,
   "id": "cff7b8d0",
   "metadata": {},
   "outputs": [
    {
     "data": {
      "text/plain": [
       "60.0"
      ]
     },
     "execution_count": 18,
     "metadata": {},
     "output_type": "execute_result"
    }
   ],
   "source": [
    "(300/100)*20"
   ]
  },
  {
   "cell_type": "code",
   "execution_count": 21,
   "id": "69dbf4fa",
   "metadata": {},
   "outputs": [
    {
     "data": {
      "text/plain": [
       "3.25"
      ]
     },
     "execution_count": 21,
     "metadata": {},
     "output_type": "execute_result"
    }
   ],
   "source": [
    "2.5*2.5-3"
   ]
  },
  {
   "cell_type": "code",
   "execution_count": 19,
   "id": "11910fd7",
   "metadata": {},
   "outputs": [
    {
     "data": {
      "text/plain": [
       "293.875"
      ]
     },
     "execution_count": 19,
     "metadata": {},
     "output_type": "execute_result"
    }
   ],
   "source": [
    "(25.5*25.5-25*2.5)/2"
   ]
  },
  {
   "cell_type": "code",
   "execution_count": 20,
   "id": "45bd6a86",
   "metadata": {},
   "outputs": [],
   "source": [
    "l=5\n",
    "area = l*l"
   ]
  },
  {
   "cell_type": "code",
   "execution_count": 13,
   "id": "c0d237fb",
   "metadata": {},
   "outputs": [
    {
     "name": "stdout",
     "output_type": "stream",
     "text": [
      "25\n"
     ]
    }
   ],
   "source": [
    "print(area)"
   ]
  },
  {
   "cell_type": "code",
   "execution_count": 14,
   "id": "2f0f88dc",
   "metadata": {},
   "outputs": [
    {
     "data": {
      "text/plain": [
       "12.666666666666666"
      ]
     },
     "execution_count": 14,
     "metadata": {},
     "output_type": "execute_result"
    }
   ],
   "source": [
    "(5*7-2+5)/3"
   ]
  },
  {
   "cell_type": "code",
   "execution_count": 50,
   "id": "dfc1e248",
   "metadata": {},
   "outputs": [],
   "source": [
    "first_name=\"Sandeep\"\n",
    "Last_name=\"Kumar\"\n",
    "subject=\"Python\"\n",
    "age=19\n",
    "full_name=(first_name,Last_name,age)"
   ]
  },
  {
   "cell_type": "code",
   "execution_count": 51,
   "id": "5579599a",
   "metadata": {},
   "outputs": [
    {
     "data": {
      "text/plain": [
       "('Sandeep', 'Kumar', 19)"
      ]
     },
     "execution_count": 51,
     "metadata": {},
     "output_type": "execute_result"
    }
   ],
   "source": [
    "full_name"
   ]
  },
  {
   "cell_type": "code",
   "execution_count": 46,
   "id": "f22f86b9",
   "metadata": {},
   "outputs": [
    {
     "data": {
      "text/plain": [
       "str"
      ]
     },
     "execution_count": 46,
     "metadata": {},
     "output_type": "execute_result"
    }
   ],
   "source": [
    "type(first_name)"
   ]
  },
  {
   "cell_type": "code",
   "execution_count": 47,
   "id": "c8b6ead2",
   "metadata": {},
   "outputs": [
    {
     "data": {
      "text/plain": [
       "str"
      ]
     },
     "execution_count": 47,
     "metadata": {},
     "output_type": "execute_result"
    }
   ],
   "source": [
    "type(subject)"
   ]
  },
  {
   "cell_type": "code",
   "execution_count": 48,
   "id": "871f981c",
   "metadata": {},
   "outputs": [
    {
     "data": {
      "text/plain": [
       "int"
      ]
     },
     "execution_count": 48,
     "metadata": {},
     "output_type": "execute_result"
    }
   ],
   "source": [
    "type(age)"
   ]
  },
  {
   "cell_type": "code",
   "execution_count": 52,
   "id": "7cb5bd88",
   "metadata": {},
   "outputs": [
    {
     "data": {
      "text/plain": [
       "tuple"
      ]
     },
     "execution_count": 52,
     "metadata": {},
     "output_type": "execute_result"
    }
   ],
   "source": [
    "type(full_name)"
   ]
  },
  {
   "cell_type": "code",
   "execution_count": 53,
   "id": "ae49a6c0",
   "metadata": {},
   "outputs": [
    {
     "data": {
      "text/plain": [
       "str"
      ]
     },
     "execution_count": 53,
     "metadata": {},
     "output_type": "execute_result"
    }
   ],
   "source": [
    "type(Last_name)"
   ]
  },
  {
   "cell_type": "code",
   "execution_count": 56,
   "id": "2706eadb",
   "metadata": {},
   "outputs": [
    {
     "name": "stdout",
     "output_type": "stream",
     "text": [
      "Enter your first_name:Sandeep\n",
      "Enter your surname:Kumar\n",
      "Enter your age:19\n",
      "Enter your favoriate subject:Python\n",
      "Your first_name is: Sandeep\n",
      "Your sur_name is: Kumar\n",
      "Your age is: 19\n",
      "Your favoriate subject is: Python\n"
     ]
    }
   ],
   "source": [
    "a=input(\"Enter your first_name:\")\n",
    "b=input(\"Enter your surname:\")\n",
    "c=int(input(\"Enter your age:\"))\n",
    "d=input(\"Enter your favoriate subject:\")\n",
    "print(\"Your first_name is:\",a)\n",
    "print(\"Your sur_name is:\",b)\n",
    "print(\"Your age is:\",c)\n",
    "print(\"Your favoriate subject is:\",d)"
   ]
  },
  {
   "cell_type": "code",
   "execution_count": 8,
   "id": "4675541d",
   "metadata": {},
   "outputs": [
    {
     "name": "stdout",
     "output_type": "stream",
     "text": [
      "Enter the value of the length:10\n",
      "Enter the value of the breadth:15\n",
      "The length of rectangle is: 10\n",
      "The breadth of rectangle is: 15\n",
      "Area of the rectangle is: 150\n"
     ]
    }
   ],
   "source": [
    "length=int(input(\"Enter the value of the length:\"))\n",
    "breadth=int(input(\"Enter the value of the breadth:\"))\n",
    "print(\"The length of rectangle is:\",length)\n",
    "print(\"The breadth of rectangle is:\",breadth)\n",
    "area=length*breadth\n",
    "print(\"Area of the rectangle is:\",area)"
   ]
  },
  {
   "cell_type": "code",
   "execution_count": 10,
   "id": "ebaa7a75",
   "metadata": {},
   "outputs": [
    {
     "name": "stdout",
     "output_type": "stream",
     "text": [
      "Enter the value of the length:10.3\n",
      "Enter the value of the breadth:13.6\n",
      "The length of rectangle is: 10.3\n",
      "The breadth of rectangle is: 13.6\n",
      "Area of the rectangle is: 140\n"
     ]
    }
   ],
   "source": [
    "length=float(input(\"Enter the value of the length:\"))\n",
    "breadth=float(input(\"Enter the value of the breadth:\"))\n",
    "print(\"The length of rectangle is:\",length)\n",
    "print(\"The breadth of rectangle is:\",breadth)\n",
    "area=int(length*breadth)\n",
    "print(\"Area of the rectangle is:\",area)"
   ]
  },
  {
   "cell_type": "code",
   "execution_count": 12,
   "id": "d7c14a56",
   "metadata": {},
   "outputs": [
    {
     "name": "stdout",
     "output_type": "stream",
     "text": [
      "Enter the value of side:2\n",
      "Area of the square is: 4\n",
      "Perimeter of the square is: 8\n"
     ]
    }
   ],
   "source": [
    "side=int(input(\"Enter the value of side:\"))\n",
    "area=side*side\n",
    "perimeter=4*side\n",
    "print(\"Area of the square is:\",area)\n",
    "print(\"Perimeter of the square is:\",perimeter )\n"
   ]
  },
  {
   "cell_type": "code",
   "execution_count": 14,
   "id": "7cc65bb6",
   "metadata": {},
   "outputs": [
    {
     "name": "stdout",
     "output_type": "stream",
     "text": [
      "Enter your name:Sandeep Kumar\n",
      "Enter your roll number:101\n",
      "Enter your feils of interest:Python\n",
      "Hey,my name is: Sandeep Kumar\n",
      "My roll number is: 101\n",
      "My field of interest is : Python\n"
     ]
    }
   ],
   "source": [
    "name=input(\"Enter your name:\")\n",
    "roll_number=int(input(\"Enter your roll number:\"))\n",
    "interest=input(\"Enter your feils of interest:\")\n",
    "print(\"Hey,my name is:\",name)\n",
    "print(\"My roll number is:\",roll_number)\n",
    "print(\"My field of interest is :\",interest)"
   ]
  },
  {
   "cell_type": "code",
   "execution_count": 1,
   "id": "769c2fd2",
   "metadata": {},
   "outputs": [
    {
     "name": "stdout",
     "output_type": "stream",
     "text": [
      "Enter a number:2\n",
      "Number is: 2\n",
      "Square of number is: 4\n",
      "Enter another number5\n",
      "Number is: 5\n",
      "Square of the number is: 25\n"
     ]
    }
   ],
   "source": [
    "#find the square of  number\n",
    "#input_1=2\n",
    "#input_2=5\n",
    "num=int(input(\"Enter a number:\"))\n",
    "square=num*num\n",
    "print(\"Number is:\",num)\n",
    "print(\"Square of number is:\",square)\n",
    "num2=int(input(\"Enter another number\"))\n",
    "square_2=num2*num2\n",
    "print(\"Number is:\",num2)\n",
    "print(\"Square of the number is:\",square_2)"
   ]
  },
  {
   "cell_type": "code",
   "execution_count": null,
   "id": "58e1a322",
   "metadata": {},
   "outputs": [],
   "source": []
  }
 ],
 "metadata": {
  "kernelspec": {
   "display_name": "Python 3 (ipykernel)",
   "language": "python",
   "name": "python3"
  },
  "language_info": {
   "codemirror_mode": {
    "name": "ipython",
    "version": 3
   },
   "file_extension": ".py",
   "mimetype": "text/x-python",
   "name": "python",
   "nbconvert_exporter": "python",
   "pygments_lexer": "ipython3",
   "version": "3.9.12"
  }
 },
 "nbformat": 4,
 "nbformat_minor": 5
}
